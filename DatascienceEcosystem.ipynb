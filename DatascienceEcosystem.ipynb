{
  "metadata": {
    "kernelspec": {
      "name": "python",
      "display_name": "Python (Pyodide)",
      "language": "python"
    },
    "language_info": {
      "codemirror_mode": {
        "name": "python",
        "version": 3
      },
      "file_extension": ".py",
      "mimetype": "text/x-python",
      "name": "python",
      "nbconvert_exporter": "python",
      "pygments_lexer": "ipython3",
      "version": "3.8"
    }
  },
  "nbformat_minor": 5,
  "nbformat": 4,
  "cells": [
    {
      "id": "7777f8f8-b9e9-492d-b714-7bc6d6bb9511",
      "cell_type": "markdown",
      "source": "# H1: Data Science Tools and Ecosystem",
      "metadata": {}
    },
    {
      "id": "0380316a-2837-4312-9cbf-0e8eb2e062ae",
      "cell_type": "markdown",
      "source": "_In this notebook, Data Science Tools and Ecosystem are summarized._",
      "metadata": {}
    },
    {
      "id": "30e55a19-8b1b-490a-ae5d-7638a4b00c4c",
      "cell_type": "markdown",
      "source": "_Some of the popular languages that Data Scientists use are:_\n1. Python\n2. Java\n3. C++",
      "metadata": {}
    },
    {
      "id": "b35d9d3a-480e-45a4-aa8e-6ba924043b68",
      "cell_type": "markdown",
      "source": "_Some of the commonly used libraries used by Data Scientists include:_\n1. numpy\n2. pandas\n3. matplotlib",
      "metadata": {}
    },
    {
      "id": "5d854f6a-1b95-4e8b-9649-5a7c83d76bd9",
      "cell_type": "markdown",
      "source": "_Data Science Tools_\n\n|Header  | \n|--------|\n|Jupyter|\n|Ananconda|\n|Pytorch|    ",
      "metadata": {}
    },
    {
      "id": "0f74ea95-7c71-41f9-a302-38163a101b27",
      "cell_type": "markdown",
      "source": "### H3: Below are a few examples of evaluating arithmetic expressions in Python\n",
      "metadata": {}
    },
    {
      "id": "9f785647-fe67-4463-8efd-30bc340cb47a",
      "cell_type": "markdown",
      "source": "_This a simple arithmetic expression to mutiply then add integers_\n",
      "metadata": {}
    },
    {
      "id": "9c6eaf2c-c565-4841-8089-bfd81a8af297",
      "cell_type": "code",
      "source": "(3*4)+5",
      "metadata": {
        "trusted": true
      },
      "outputs": [
        {
          "execution_count": 6,
          "output_type": "execute_result",
          "data": {
            "text/plain": "17"
          },
          "metadata": {}
        }
      ],
      "execution_count": 6
    },
    {
      "id": "87cd1087-17dc-4ce7-82d4-483fc1d511f4",
      "cell_type": "markdown",
      "source": "_This will convert 200 minutes to hours by diving by 60_",
      "metadata": {}
    },
    {
      "id": "6e156c33-3225-4ed2-9a39-ba7832682271",
      "cell_type": "code",
      "source": "200/60",
      "metadata": {
        "trusted": true
      },
      "outputs": [
        {
          "execution_count": 8,
          "output_type": "execute_result",
          "data": {
            "text/plain": "3.3333333333333335"
          },
          "metadata": {}
        }
      ],
      "execution_count": 8
    },
    {
      "id": "cb1b571d-5d6f-4a9d-9db1-84b50a083cec",
      "cell_type": "markdown",
      "source": "## H2: Subramanian T\n\n",
      "metadata": {}
    },
    {
      "id": "ac00ba60-43e9-4d86-bcd5-96e069eb1a61",
      "cell_type": "markdown",
      "source": "***Objectives:***",
      "metadata": {}
    },
    {
      "id": "00542275-c3eb-4fe4-a7b0-d0d85546904b",
      "cell_type": "markdown",
      "source": "_List popular languages for Data Science_",
      "metadata": {}
    },
    {
      "id": "bb719fc2-3956-4513-8834-b2faee93ddd4",
      "cell_type": "markdown",
      "source": "- Python\n- Java\n- Javascript\n- R\n- C++",
      "metadata": {}
    },
    {
      "id": "eac0aee8-59ac-404b-b5b4-5e34ab3549a9",
      "cell_type": "code",
      "source": "",
      "metadata": {
        "trusted": true
      },
      "outputs": [],
      "execution_count": null
    }
  ]
}